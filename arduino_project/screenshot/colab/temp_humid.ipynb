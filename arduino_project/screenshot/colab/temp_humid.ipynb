{
  "nbformat": 4,
  "nbformat_minor": 0,
  "metadata": {
    "colab": {
      "provenance": []
    },
    "kernelspec": {
      "name": "python3",
      "display_name": "Python 3"
    },
    "language_info": {
      "name": "python"
    }
  },
  "cells": [
    {
      "cell_type": "code",
      "execution_count": 46,
      "metadata": {
        "id": "EVmGUs6jcWI2"
      },
      "outputs": [],
      "source": [
        "import pandas as pd\n",
        "import numpy as np #import numpy library, used for arithmetic\n",
        "from sklearn.model_selection import train_test_split #mpodule that allow us to split our train and test sets\n",
        "from sklearn.svm import SVC #the machine learning classifier model"
      ]
    },
    {
      "cell_type": "code",
      "source": [
        "df = pd.read_csv('data1.csv',sep=\",\")  #read the csv file\n",
        "df.head() #show the 5 first rows of the dataframe"
      ],
      "metadata": {
        "colab": {
          "base_uri": "https://localhost:8080/",
          "height": 206
        },
        "id": "6SalRB7lcfXD",
        "outputId": "c7f2c663-81d1-4cb7-bc9a-515fae7eb99d"
      },
      "execution_count": 47,
      "outputs": [
        {
          "output_type": "execute_result",
          "data": {
            "text/plain": [
              "   Temperature  Relative Humidity    Mood\n",
              "0           28                  47  HAPPY\n",
              "1           28                  49  HAPPY\n",
              "2           28                  49  HAPPY\n",
              "3           28                  49  HAPPY\n",
              "4           28                  48  HAPPY"
            ],
            "text/html": [
              "\n",
              "  <div id=\"df-3368e1d4-f941-46cf-b2e2-fd489e92b44e\">\n",
              "    <div class=\"colab-df-container\">\n",
              "      <div>\n",
              "<style scoped>\n",
              "    .dataframe tbody tr th:only-of-type {\n",
              "        vertical-align: middle;\n",
              "    }\n",
              "\n",
              "    .dataframe tbody tr th {\n",
              "        vertical-align: top;\n",
              "    }\n",
              "\n",
              "    .dataframe thead th {\n",
              "        text-align: right;\n",
              "    }\n",
              "</style>\n",
              "<table border=\"1\" class=\"dataframe\">\n",
              "  <thead>\n",
              "    <tr style=\"text-align: right;\">\n",
              "      <th></th>\n",
              "      <th>Temperature</th>\n",
              "      <th>Relative Humidity</th>\n",
              "      <th>Mood</th>\n",
              "    </tr>\n",
              "  </thead>\n",
              "  <tbody>\n",
              "    <tr>\n",
              "      <th>0</th>\n",
              "      <td>28</td>\n",
              "      <td>47</td>\n",
              "      <td>HAPPY</td>\n",
              "    </tr>\n",
              "    <tr>\n",
              "      <th>1</th>\n",
              "      <td>28</td>\n",
              "      <td>49</td>\n",
              "      <td>HAPPY</td>\n",
              "    </tr>\n",
              "    <tr>\n",
              "      <th>2</th>\n",
              "      <td>28</td>\n",
              "      <td>49</td>\n",
              "      <td>HAPPY</td>\n",
              "    </tr>\n",
              "    <tr>\n",
              "      <th>3</th>\n",
              "      <td>28</td>\n",
              "      <td>49</td>\n",
              "      <td>HAPPY</td>\n",
              "    </tr>\n",
              "    <tr>\n",
              "      <th>4</th>\n",
              "      <td>28</td>\n",
              "      <td>48</td>\n",
              "      <td>HAPPY</td>\n",
              "    </tr>\n",
              "  </tbody>\n",
              "</table>\n",
              "</div>\n",
              "      <button class=\"colab-df-convert\" onclick=\"convertToInteractive('df-3368e1d4-f941-46cf-b2e2-fd489e92b44e')\"\n",
              "              title=\"Convert this dataframe to an interactive table.\"\n",
              "              style=\"display:none;\">\n",
              "        \n",
              "  <svg xmlns=\"http://www.w3.org/2000/svg\" height=\"24px\"viewBox=\"0 0 24 24\"\n",
              "       width=\"24px\">\n",
              "    <path d=\"M0 0h24v24H0V0z\" fill=\"none\"/>\n",
              "    <path d=\"M18.56 5.44l.94 2.06.94-2.06 2.06-.94-2.06-.94-.94-2.06-.94 2.06-2.06.94zm-11 1L8.5 8.5l.94-2.06 2.06-.94-2.06-.94L8.5 2.5l-.94 2.06-2.06.94zm10 10l.94 2.06.94-2.06 2.06-.94-2.06-.94-.94-2.06-.94 2.06-2.06.94z\"/><path d=\"M17.41 7.96l-1.37-1.37c-.4-.4-.92-.59-1.43-.59-.52 0-1.04.2-1.43.59L10.3 9.45l-7.72 7.72c-.78.78-.78 2.05 0 2.83L4 21.41c.39.39.9.59 1.41.59.51 0 1.02-.2 1.41-.59l7.78-7.78 2.81-2.81c.8-.78.8-2.07 0-2.86zM5.41 20L4 18.59l7.72-7.72 1.47 1.35L5.41 20z\"/>\n",
              "  </svg>\n",
              "      </button>\n",
              "      \n",
              "  <style>\n",
              "    .colab-df-container {\n",
              "      display:flex;\n",
              "      flex-wrap:wrap;\n",
              "      gap: 12px;\n",
              "    }\n",
              "\n",
              "    .colab-df-convert {\n",
              "      background-color: #E8F0FE;\n",
              "      border: none;\n",
              "      border-radius: 50%;\n",
              "      cursor: pointer;\n",
              "      display: none;\n",
              "      fill: #1967D2;\n",
              "      height: 32px;\n",
              "      padding: 0 0 0 0;\n",
              "      width: 32px;\n",
              "    }\n",
              "\n",
              "    .colab-df-convert:hover {\n",
              "      background-color: #E2EBFA;\n",
              "      box-shadow: 0px 1px 2px rgba(60, 64, 67, 0.3), 0px 1px 3px 1px rgba(60, 64, 67, 0.15);\n",
              "      fill: #174EA6;\n",
              "    }\n",
              "\n",
              "    [theme=dark] .colab-df-convert {\n",
              "      background-color: #3B4455;\n",
              "      fill: #D2E3FC;\n",
              "    }\n",
              "\n",
              "    [theme=dark] .colab-df-convert:hover {\n",
              "      background-color: #434B5C;\n",
              "      box-shadow: 0px 1px 3px 1px rgba(0, 0, 0, 0.15);\n",
              "      filter: drop-shadow(0px 1px 2px rgba(0, 0, 0, 0.3));\n",
              "      fill: #FFFFFF;\n",
              "    }\n",
              "  </style>\n",
              "\n",
              "      <script>\n",
              "        const buttonEl =\n",
              "          document.querySelector('#df-3368e1d4-f941-46cf-b2e2-fd489e92b44e button.colab-df-convert');\n",
              "        buttonEl.style.display =\n",
              "          google.colab.kernel.accessAllowed ? 'block' : 'none';\n",
              "\n",
              "        async function convertToInteractive(key) {\n",
              "          const element = document.querySelector('#df-3368e1d4-f941-46cf-b2e2-fd489e92b44e');\n",
              "          const dataTable =\n",
              "            await google.colab.kernel.invokeFunction('convertToInteractive',\n",
              "                                                     [key], {});\n",
              "          if (!dataTable) return;\n",
              "\n",
              "          const docLinkHtml = 'Like what you see? Visit the ' +\n",
              "            '<a target=\"_blank\" href=https://colab.research.google.com/notebooks/data_table.ipynb>data table notebook</a>'\n",
              "            + ' to learn more about interactive tables.';\n",
              "          element.innerHTML = '';\n",
              "          dataTable['output_type'] = 'display_data';\n",
              "          await google.colab.output.renderOutput(dataTable, element);\n",
              "          const docLink = document.createElement('div');\n",
              "          docLink.innerHTML = docLinkHtml;\n",
              "          element.appendChild(docLink);\n",
              "        }\n",
              "      </script>\n",
              "    </div>\n",
              "  </div>\n",
              "  "
            ]
          },
          "metadata": {},
          "execution_count": 47
        }
      ]
    },
    {
      "cell_type": "code",
      "source": [
        "df['Mood'].value_counts() #this method inspect the count for each value in a column"
      ],
      "metadata": {
        "colab": {
          "base_uri": "https://localhost:8080/"
        },
        "id": "PFfDjLZicwcM",
        "outputId": "3686d5b8-e2b9-48a4-816a-00d0bc6969de"
      },
      "execution_count": 48,
      "outputs": [
        {
          "output_type": "execute_result",
          "data": {
            "text/plain": [
              "HAPPY    86\n",
              "SAD      74\n",
              "Name: Mood, dtype: int64"
            ]
          },
          "metadata": {},
          "execution_count": 48
        }
      ]
    },
    {
      "cell_type": "code",
      "source": [
        "#This function will map the corresponding UP, DOWN, HORIZONTAL keyword to numerical values\n",
        "def moodToNumber(x):\n",
        "  if x=='HAPPY':\n",
        "    return 1\n",
        "  elif x=='SAD':\n",
        "    return 2\n",
        "  else:\n",
        "    return 3\n",
        "\n",
        "df['Mood'] = df['Mood'].apply(moodToNumber) #apply command will apply a function to a whole vector\n",
        "df.head() #let's see the result"
      ],
      "metadata": {
        "colab": {
          "base_uri": "https://localhost:8080/",
          "height": 206
        },
        "id": "H1h3k-S3eCce",
        "outputId": "5d12e85c-c275-445e-81b9-0ab29e8edb60"
      },
      "execution_count": 49,
      "outputs": [
        {
          "output_type": "execute_result",
          "data": {
            "text/plain": [
              "   Temperature  Relative Humidity   Mood\n",
              "0           28                  47     1\n",
              "1           28                  49     1\n",
              "2           28                  49     1\n",
              "3           28                  49     1\n",
              "4           28                  48     1"
            ],
            "text/html": [
              "\n",
              "  <div id=\"df-ae00c078-3b1f-42e8-bed0-10a7f5f2c829\">\n",
              "    <div class=\"colab-df-container\">\n",
              "      <div>\n",
              "<style scoped>\n",
              "    .dataframe tbody tr th:only-of-type {\n",
              "        vertical-align: middle;\n",
              "    }\n",
              "\n",
              "    .dataframe tbody tr th {\n",
              "        vertical-align: top;\n",
              "    }\n",
              "\n",
              "    .dataframe thead th {\n",
              "        text-align: right;\n",
              "    }\n",
              "</style>\n",
              "<table border=\"1\" class=\"dataframe\">\n",
              "  <thead>\n",
              "    <tr style=\"text-align: right;\">\n",
              "      <th></th>\n",
              "      <th>Temperature</th>\n",
              "      <th>Relative Humidity</th>\n",
              "      <th>Mood</th>\n",
              "    </tr>\n",
              "  </thead>\n",
              "  <tbody>\n",
              "    <tr>\n",
              "      <th>0</th>\n",
              "      <td>28</td>\n",
              "      <td>47</td>\n",
              "      <td>1</td>\n",
              "    </tr>\n",
              "    <tr>\n",
              "      <th>1</th>\n",
              "      <td>28</td>\n",
              "      <td>49</td>\n",
              "      <td>1</td>\n",
              "    </tr>\n",
              "    <tr>\n",
              "      <th>2</th>\n",
              "      <td>28</td>\n",
              "      <td>49</td>\n",
              "      <td>1</td>\n",
              "    </tr>\n",
              "    <tr>\n",
              "      <th>3</th>\n",
              "      <td>28</td>\n",
              "      <td>49</td>\n",
              "      <td>1</td>\n",
              "    </tr>\n",
              "    <tr>\n",
              "      <th>4</th>\n",
              "      <td>28</td>\n",
              "      <td>48</td>\n",
              "      <td>1</td>\n",
              "    </tr>\n",
              "  </tbody>\n",
              "</table>\n",
              "</div>\n",
              "      <button class=\"colab-df-convert\" onclick=\"convertToInteractive('df-ae00c078-3b1f-42e8-bed0-10a7f5f2c829')\"\n",
              "              title=\"Convert this dataframe to an interactive table.\"\n",
              "              style=\"display:none;\">\n",
              "        \n",
              "  <svg xmlns=\"http://www.w3.org/2000/svg\" height=\"24px\"viewBox=\"0 0 24 24\"\n",
              "       width=\"24px\">\n",
              "    <path d=\"M0 0h24v24H0V0z\" fill=\"none\"/>\n",
              "    <path d=\"M18.56 5.44l.94 2.06.94-2.06 2.06-.94-2.06-.94-.94-2.06-.94 2.06-2.06.94zm-11 1L8.5 8.5l.94-2.06 2.06-.94-2.06-.94L8.5 2.5l-.94 2.06-2.06.94zm10 10l.94 2.06.94-2.06 2.06-.94-2.06-.94-.94-2.06-.94 2.06-2.06.94z\"/><path d=\"M17.41 7.96l-1.37-1.37c-.4-.4-.92-.59-1.43-.59-.52 0-1.04.2-1.43.59L10.3 9.45l-7.72 7.72c-.78.78-.78 2.05 0 2.83L4 21.41c.39.39.9.59 1.41.59.51 0 1.02-.2 1.41-.59l7.78-7.78 2.81-2.81c.8-.78.8-2.07 0-2.86zM5.41 20L4 18.59l7.72-7.72 1.47 1.35L5.41 20z\"/>\n",
              "  </svg>\n",
              "      </button>\n",
              "      \n",
              "  <style>\n",
              "    .colab-df-container {\n",
              "      display:flex;\n",
              "      flex-wrap:wrap;\n",
              "      gap: 12px;\n",
              "    }\n",
              "\n",
              "    .colab-df-convert {\n",
              "      background-color: #E8F0FE;\n",
              "      border: none;\n",
              "      border-radius: 50%;\n",
              "      cursor: pointer;\n",
              "      display: none;\n",
              "      fill: #1967D2;\n",
              "      height: 32px;\n",
              "      padding: 0 0 0 0;\n",
              "      width: 32px;\n",
              "    }\n",
              "\n",
              "    .colab-df-convert:hover {\n",
              "      background-color: #E2EBFA;\n",
              "      box-shadow: 0px 1px 2px rgba(60, 64, 67, 0.3), 0px 1px 3px 1px rgba(60, 64, 67, 0.15);\n",
              "      fill: #174EA6;\n",
              "    }\n",
              "\n",
              "    [theme=dark] .colab-df-convert {\n",
              "      background-color: #3B4455;\n",
              "      fill: #D2E3FC;\n",
              "    }\n",
              "\n",
              "    [theme=dark] .colab-df-convert:hover {\n",
              "      background-color: #434B5C;\n",
              "      box-shadow: 0px 1px 3px 1px rgba(0, 0, 0, 0.15);\n",
              "      filter: drop-shadow(0px 1px 2px rgba(0, 0, 0, 0.3));\n",
              "      fill: #FFFFFF;\n",
              "    }\n",
              "  </style>\n",
              "\n",
              "      <script>\n",
              "        const buttonEl =\n",
              "          document.querySelector('#df-ae00c078-3b1f-42e8-bed0-10a7f5f2c829 button.colab-df-convert');\n",
              "        buttonEl.style.display =\n",
              "          google.colab.kernel.accessAllowed ? 'block' : 'none';\n",
              "\n",
              "        async function convertToInteractive(key) {\n",
              "          const element = document.querySelector('#df-ae00c078-3b1f-42e8-bed0-10a7f5f2c829');\n",
              "          const dataTable =\n",
              "            await google.colab.kernel.invokeFunction('convertToInteractive',\n",
              "                                                     [key], {});\n",
              "          if (!dataTable) return;\n",
              "\n",
              "          const docLinkHtml = 'Like what you see? Visit the ' +\n",
              "            '<a target=\"_blank\" href=https://colab.research.google.com/notebooks/data_table.ipynb>data table notebook</a>'\n",
              "            + ' to learn more about interactive tables.';\n",
              "          element.innerHTML = '';\n",
              "          dataTable['output_type'] = 'display_data';\n",
              "          await google.colab.output.renderOutput(dataTable, element);\n",
              "          const docLink = document.createElement('div');\n",
              "          docLink.innerHTML = docLinkHtml;\n",
              "          element.appendChild(docLink);\n",
              "        }\n",
              "      </script>\n",
              "    </div>\n",
              "  </div>\n",
              "  "
            ]
          },
          "metadata": {},
          "execution_count": 49
        }
      ]
    },
    {
      "cell_type": "code",
      "source": [
        "labels = np.array(df.pop('Mood')) #extract the label column and convert it into numpy ndarray\n",
        "features = np.array(df) #convert our dataframe into numpy ndarray"
      ],
      "metadata": {
        "id": "zMJQqJ5TeJEx"
      },
      "execution_count": 50,
      "outputs": []
    },
    {
      "cell_type": "code",
      "source": [
        "labels"
      ],
      "metadata": {
        "colab": {
          "base_uri": "https://localhost:8080/"
        },
        "id": "OGjyE9_jePIL",
        "outputId": "26ad2d6e-ca88-4212-aa5e-69c6964384c0"
      },
      "execution_count": 51,
      "outputs": [
        {
          "output_type": "execute_result",
          "data": {
            "text/plain": [
              "array([1, 1, 1, 1, 1, 1, 1, 1, 1, 2, 2, 2, 2, 2, 2, 2, 2, 2, 2, 2, 2, 1,\n",
              "       1, 1, 1, 1, 1, 1, 1, 1, 1, 1, 1, 1, 1, 1, 2, 2, 2, 2, 2, 2, 2, 2,\n",
              "       1, 1, 1, 1, 1, 1, 1, 1, 1, 1, 1, 1, 1, 2, 2, 2, 2, 2, 2, 2, 2, 2,\n",
              "       2, 2, 1, 1, 1, 1, 1, 1, 1, 1, 1, 1, 1, 1, 2, 2, 2, 2, 2, 2, 2, 2,\n",
              "       2, 2, 2, 2, 1, 1, 1, 1, 1, 1, 1, 1, 1, 1, 1, 1, 2, 2, 2, 2, 2, 2,\n",
              "       2, 2, 2, 2, 2, 2, 1, 1, 1, 1, 1, 1, 1, 1, 1, 1, 1, 1, 2, 2, 2, 2,\n",
              "       2, 2, 2, 2, 2, 2, 2, 1, 1, 1, 1, 1, 1, 1, 1, 1, 1, 1, 1, 1, 2, 2,\n",
              "       2, 2, 2, 2, 2, 2])"
            ]
          },
          "metadata": {},
          "execution_count": 51
        }
      ]
    },
    {
      "cell_type": "code",
      "source": [
        "features"
      ],
      "metadata": {
        "colab": {
          "base_uri": "https://localhost:8080/"
        },
        "id": "8zBvmQ46eQcT",
        "outputId": "0f3f7631-ace1-4e96-91b3-97ad6a9ecff3"
      },
      "execution_count": 52,
      "outputs": [
        {
          "output_type": "execute_result",
          "data": {
            "text/plain": [
              "array([[28, 47],\n",
              "       [28, 49],\n",
              "       [28, 49],\n",
              "       [28, 49],\n",
              "       [28, 48],\n",
              "       [28, 48],\n",
              "       [28, 48],\n",
              "       [28, 48],\n",
              "       [29, 46],\n",
              "       [30, 42],\n",
              "       [31, 40],\n",
              "       [32, 36],\n",
              "       [32, 33],\n",
              "       [32, 32],\n",
              "       [32, 33],\n",
              "       [32, 34],\n",
              "       [32, 35],\n",
              "       [32, 38],\n",
              "       [31, 40],\n",
              "       [30, 42],\n",
              "       [30, 44],\n",
              "       [29, 46],\n",
              "       [29, 48],\n",
              "       [29, 50],\n",
              "       [29, 49],\n",
              "       [29, 45],\n",
              "       [28, 46],\n",
              "       [28, 46],\n",
              "       [28, 46],\n",
              "       [28, 47],\n",
              "       [28, 48],\n",
              "       [29, 45],\n",
              "       [29, 47],\n",
              "       [29, 46],\n",
              "       [29, 46],\n",
              "       [29, 45],\n",
              "       [30, 42],\n",
              "       [30, 39],\n",
              "       [30, 39],\n",
              "       [30, 38],\n",
              "       [30, 36],\n",
              "       [31, 37],\n",
              "       [30, 39],\n",
              "       [30, 43],\n",
              "       [29, 48],\n",
              "       [29, 45],\n",
              "       [29, 46],\n",
              "       [29, 48],\n",
              "       [29, 45],\n",
              "       [28, 47],\n",
              "       [28, 49],\n",
              "       [28, 49],\n",
              "       [28, 49],\n",
              "       [28, 51],\n",
              "       [28, 51],\n",
              "       [28, 45],\n",
              "       [29, 45],\n",
              "       [30, 39],\n",
              "       [31, 37],\n",
              "       [31, 35],\n",
              "       [32, 34],\n",
              "       [32, 34],\n",
              "       [33, 34],\n",
              "       [32, 35],\n",
              "       [31, 42],\n",
              "       [31, 36],\n",
              "       [30, 38],\n",
              "       [30, 41],\n",
              "       [29, 45],\n",
              "       [29, 46],\n",
              "       [29, 46],\n",
              "       [29, 46],\n",
              "       [29, 45],\n",
              "       [28, 46],\n",
              "       [28, 48],\n",
              "       [28, 51],\n",
              "       [28, 52],\n",
              "       [28, 49],\n",
              "       [28, 51],\n",
              "       [29, 49],\n",
              "       [30, 44],\n",
              "       [31, 39],\n",
              "       [31, 37],\n",
              "       [30, 39],\n",
              "       [30, 42],\n",
              "       [31, 37],\n",
              "       [32, 32],\n",
              "       [32, 31],\n",
              "       [32, 33],\n",
              "       [31, 35],\n",
              "       [31, 38],\n",
              "       [30, 42],\n",
              "       [29, 45],\n",
              "       [29, 46],\n",
              "       [29, 48],\n",
              "       [29, 50],\n",
              "       [29, 50],\n",
              "       [29, 50],\n",
              "       [29, 52],\n",
              "       [28, 52],\n",
              "       [28, 49],\n",
              "       [28, 50],\n",
              "       [28, 52],\n",
              "       [29, 47],\n",
              "       [30, 42],\n",
              "       [31, 38],\n",
              "       [32, 36],\n",
              "       [32, 33],\n",
              "       [32, 32],\n",
              "       [32, 31],\n",
              "       [33, 30],\n",
              "       [32, 30],\n",
              "       [32, 31],\n",
              "       [31, 38],\n",
              "       [31, 41],\n",
              "       [30, 44],\n",
              "       [29, 45],\n",
              "       [29, 45],\n",
              "       [29, 46],\n",
              "       [29, 49],\n",
              "       [29, 50],\n",
              "       [29, 51],\n",
              "       [28, 49],\n",
              "       [28, 50],\n",
              "       [28, 51],\n",
              "       [28, 50],\n",
              "       [28, 49],\n",
              "       [29, 45],\n",
              "       [30, 41],\n",
              "       [31, 38],\n",
              "       [30, 40],\n",
              "       [31, 44],\n",
              "       [32, 43],\n",
              "       [32, 46],\n",
              "       [32, 44],\n",
              "       [32, 44],\n",
              "       [32, 44],\n",
              "       [30, 43],\n",
              "       [30, 42],\n",
              "       [29, 47],\n",
              "       [29, 47],\n",
              "       [29, 47],\n",
              "       [29, 47],\n",
              "       [29, 46],\n",
              "       [29, 47],\n",
              "       [29, 46],\n",
              "       [28, 47],\n",
              "       [28, 47],\n",
              "       [28, 48],\n",
              "       [28, 48],\n",
              "       [28, 48],\n",
              "       [29, 45],\n",
              "       [30, 40],\n",
              "       [30, 38],\n",
              "       [31, 36],\n",
              "       [30, 40],\n",
              "       [30, 41],\n",
              "       [30, 42],\n",
              "       [30, 41],\n",
              "       [30, 42]])"
            ]
          },
          "metadata": {},
          "execution_count": 52
        }
      ]
    },
    {
      "cell_type": "code",
      "source": [
        "#Split the dataset into training set 85% and test set 15%\n",
        "train_features, test_features, train_labels, test_labels = train_test_split(features, labels, test_size=0.15,shuffle=True)"
      ],
      "metadata": {
        "id": "ERUO_Zd8eUOD"
      },
      "execution_count": 53,
      "outputs": []
    },
    {
      "cell_type": "code",
      "source": [
        "model = SVC(gamma=0.001) #lets instanciate our model"
      ],
      "metadata": {
        "id": "igmEgdtmeXQT"
      },
      "execution_count": 54,
      "outputs": []
    },
    {
      "cell_type": "code",
      "source": [
        "model.fit(train_features, train_labels) #we train our model"
      ],
      "metadata": {
        "colab": {
          "base_uri": "https://localhost:8080/"
        },
        "id": "s1dEYsS_eZBS",
        "outputId": "58d8e357-8e5b-4960-b04c-5bc397ee69d1"
      },
      "execution_count": 55,
      "outputs": [
        {
          "output_type": "execute_result",
          "data": {
            "text/plain": [
              "SVC(gamma=0.001)"
            ]
          },
          "metadata": {},
          "execution_count": 55
        }
      ]
    },
    {
      "cell_type": "code",
      "source": [
        "\n",
        "print(\"Accuracy for the model : {} %\".format(100*round(model.score(test_features,test_labels),2))) #we verify the accuracy of our model"
      ],
      "metadata": {
        "colab": {
          "base_uri": "https://localhost:8080/"
        },
        "id": "iKTPKRG3eas4",
        "outputId": "6425db78-5d2c-45d1-efb9-0b236ca01209"
      },
      "execution_count": 56,
      "outputs": [
        {
          "output_type": "stream",
          "name": "stdout",
          "text": [
            "Accuracy for the model : 100.0 %\n"
          ]
        }
      ]
    },
    {
      "cell_type": "code",
      "source": [
        "!pip install micromlgen"
      ],
      "metadata": {
        "colab": {
          "base_uri": "https://localhost:8080/"
        },
        "id": "9nK1XKgVedCJ",
        "outputId": "74654752-8f97-4de1-b19f-5ea3678e5704"
      },
      "execution_count": 57,
      "outputs": [
        {
          "output_type": "stream",
          "name": "stdout",
          "text": [
            "Looking in indexes: https://pypi.org/simple, https://us-python.pkg.dev/colab-wheels/public/simple/\n",
            "Requirement already satisfied: micromlgen in /usr/local/lib/python3.7/dist-packages (1.1.28)\n",
            "Requirement already satisfied: jinja2 in /usr/local/lib/python3.7/dist-packages (from micromlgen) (2.11.3)\n",
            "Requirement already satisfied: MarkupSafe>=0.23 in /usr/local/lib/python3.7/dist-packages (from jinja2->micromlgen) (2.0.1)\n"
          ]
        }
      ]
    },
    {
      "cell_type": "code",
      "source": [
        "from micromlgen import port"
      ],
      "metadata": {
        "id": "rHTnbW16eflF"
      },
      "execution_count": 58,
      "outputs": []
    },
    {
      "cell_type": "code",
      "source": [
        "LABELS = ['HAPPY','SAD'] #our existing labels\n",
        "classMap = {} #create an empty dict\n",
        "for i, label in zip(range(2),LABELS): #interate over the range and the labels at the same time \n",
        "  classMap[i]=label #fill our dict\n",
        "\n",
        "print(classMap)"
      ],
      "metadata": {
        "id": "liUV51s7eiFf",
        "outputId": "74ead333-7b32-46b4-a153-4f78e37e6865",
        "colab": {
          "base_uri": "https://localhost:8080/"
        }
      },
      "execution_count": 59,
      "outputs": [
        {
          "output_type": "stream",
          "name": "stdout",
          "text": [
            "{0: 'HAPPY', 1: 'SAD'}\n"
          ]
        }
      ]
    },
    {
      "cell_type": "code",
      "source": [
        "c_code = port(model,classmap=classMap) #convert our model\n",
        "\n",
        "#Let's write it into a .h file\n",
        "modelFile = open(\"model.h\", \"w\")\n",
        "modelFile.write(c_code)\n",
        "modelFile.close()\n",
        "\n",
        "#Let's print the size of the .h file\n",
        "import os\n",
        "model_h_size = os.path.getsize(\"model.h\")\n",
        "print(f\"Header file, model.h, is {model_h_size:,} bytes.\")\n",
        "print(\"\\nOpen the side panel (refresh if needed). Double click model.h to download the file.\")"
      ],
      "metadata": {
        "id": "1A7Q5aI8ekvd",
        "outputId": "f1328323-2c86-4773-f2cb-b4207cdb7198",
        "colab": {
          "base_uri": "https://localhost:8080/"
        }
      },
      "execution_count": 60,
      "outputs": [
        {
          "output_type": "stream",
          "name": "stdout",
          "text": [
            "Header file, model.h, is 8,002 bytes.\n",
            "\n",
            "Open the side panel (refresh if needed). Double click model.h to download the file.\n"
          ]
        }
      ]
    },
    {
      "cell_type": "code",
      "source": [],
      "metadata": {
        "id": "T3O8oQ5memsn"
      },
      "execution_count": 60,
      "outputs": []
    }
  ]
}